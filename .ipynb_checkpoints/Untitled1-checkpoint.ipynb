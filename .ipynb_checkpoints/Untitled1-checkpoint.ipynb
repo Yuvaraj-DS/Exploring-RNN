{
 "cells": [
  {
   "cell_type": "code",
   "execution_count": 1,
   "metadata": {
    "scrolled": true
   },
   "outputs": [
    {
     "name": "stdout",
     "output_type": "stream",
     "text": [
      "Hello\n"
     ]
    }
   ],
   "source": [
    "print('Hello')\n",
    "\n",
    "print(\"Hello\")\n",
    "\n",
    "name = 'Adam'\n",
    "\n",
    "print('Hello ' + name)\n",
    "\n",
    "#f-strings\n",
    "\n",
    "print('hello {}'.format(name))\n",
    "\n",
    "print(f'hello {name}')\n",
    "\n",
    "book_store = [ ['Author', 'Book', 'Pages'], ['J.K.L', 'Book of boys', 890], ['Aurthor 4', 'four boys', 900], ['Rowliong', 'HP', 1298] ]\n",
    "\n",
    "book_store\n",
    "\n",
    "list_of = ['man', 'woman', 'boy']\n",
    "\n",
    "print(f'the gender is {list_of[1]}')\n",
    "\n",
    "my_dict = {'name' : 'bob', 'gender' : 'male'}\n",
    "\n",
    "print(f'the name is {my_dict[\"name\"]}')\n",
    "\n",
    "for author, book, page in book_store:\n",
    "    print(f'{author:{20}} {book:{20}} {page:.>{20}}')\n",
    "\n",
    "from datetime import datetime\n",
    "\n",
    "date = datetime(year = 2020, month = 10, day = 12)\n",
    "\n",
    "date\n",
    "\n",
    "print(f'{date:%B %a, %Y}')\n",
    "\n",
    "%%writefile test.txt\n",
    "hi, iam yuvi, im good!\n",
    "how are you? hope she is fine.\n",
    "good wishes.\n",
    "\n",
    "file = open('test.txt')\n",
    "\n",
    "file\n",
    "\n",
    "file.read()\n",
    "\n",
    "file.read()\n",
    "\n",
    "file.seek(0)\n",
    "\n",
    "file.read()\n",
    "\n",
    "file.seek(0)\n",
    "\n",
    "print(file.read())\n",
    "\n",
    "file.close()\n",
    "\n",
    "file = open('test.txt', 'w+')\n",
    "\n",
    "file.read()\n",
    "\n",
    "file.write('Hellooooo man men')\n",
    "\n",
    "file.read()\n",
    "\n",
    "file.seek(0)\n",
    "\n",
    "file.read()\n",
    "\n",
    "file.close()\n",
    "\n",
    "file = open('test.txt', 'a+')\n",
    "\n",
    "file.write('good morning')\n",
    "\n",
    "file.read()\n",
    "\n",
    "file.seek(0)\n",
    "\n",
    "file.read()\n",
    "\n",
    "file.close()\n",
    "\n",
    "file = open('jhsdvvhj.txt', 'a+')\n",
    "\n",
    "file.write('sajhdgfuykseGFIUSEGFLSUEFBLSJHFBsdgjhv')\n",
    "\n",
    "file.close()\n",
    "\n",
    "with open('test.txt') as file:\n",
    "    file.read()\n",
    "\n",
    "file = open('test.txt')\n",
    "\n",
    "file.write('sghdvfhgsdvhsd')"
   ]
  },
  {
   "cell_type": "code",
   "execution_count": null,
   "metadata": {},
   "outputs": [],
   "source": []
  },
  {
   "cell_type": "code",
   "execution_count": null,
   "metadata": {},
   "outputs": [],
   "source": []
  },
  {
   "cell_type": "code",
   "execution_count": null,
   "metadata": {},
   "outputs": [],
   "source": []
  },
  {
   "cell_type": "code",
   "execution_count": null,
   "metadata": {},
   "outputs": [],
   "source": []
  },
  {
   "cell_type": "code",
   "execution_count": null,
   "metadata": {},
   "outputs": [],
   "source": []
  }
 ],
 "metadata": {
  "kernelspec": {
   "display_name": "Python 3",
   "language": "python",
   "name": "python3"
  },
  "language_info": {
   "codemirror_mode": {
    "name": "ipython",
    "version": 3
   },
   "file_extension": ".py",
   "mimetype": "text/x-python",
   "name": "python",
   "nbconvert_exporter": "python",
   "pygments_lexer": "ipython3",
   "version": "3.7.4"
  }
 },
 "nbformat": 4,
 "nbformat_minor": 4
}
